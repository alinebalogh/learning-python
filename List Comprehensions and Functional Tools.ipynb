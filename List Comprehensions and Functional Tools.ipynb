{
 "nbformat": 4,
 "nbformat_minor": 2,
 "metadata": {
  "language_info": {
   "name": "python",
   "codemirror_mode": {
    "name": "ipython",
    "version": 3
   },
   "version": "3.6.9-final"
  },
  "orig_nbformat": 2,
  "file_extension": ".py",
  "mimetype": "text/x-python",
  "name": "python",
  "npconvert_exporter": "python",
  "pygments_lexer": "ipython3",
  "version": 3,
  "kernelspec": {
   "name": "python36964bit92cae85e95ed40388261b00b988831d5",
   "display_name": "Python 3.6.9 64-bit"
  }
 },
 "cells": [
  {
   "cell_type": "markdown",
   "execution_count": null,
   "metadata": {},
   "outputs": [],
   "source": [
    "# List Comprehensions and Functional Tools\n",
    "\n",
    "## Intro\n",
    "\n",
    "### Paradigmas de programação que o Python suporta:\n",
    "\n",
    "1. Procedural : baseado no conceito de chamadas a procedimento. Os Procedimentos, também conhecidos como rotinas, subrotinas, métodos, ou funções que simplesmente contêm um conjunto de passos computacionais a serem executados.\n",
    "\n",
    "2. OOP : baseado na composição e interação entre diversas unidades chamadas de 'objetos'. Os objetos são operados com o conceito de 'this' (isto) ou 'self' (si), de forma que seus métodos (muitas vezes) modifiquem os dados da própria instância. Os programas são arquitetados através de objetos que interagem entre si.\n",
    "\n",
    "3. Functional : programação funcional é um paradigma de programação que trata a computação como uma avaliação de funções matemáticas e que evita estados ou dados mutáveis.\n",
    "\n",
    "### Ferramentas funcionais no python:\n",
    "\n",
    "- closures, \n",
    "- generators, \n",
    "- lambdas,\n",
    "- comprehensions, \n",
    "- maps, \n",
    "- decorators,\n",
    "- function objects, and more.\n",
    "\n",
    "*These tools allow us to apply and combine functions in powerful ways, and often offer state retention and coding solutions that are alternatives to classes and OOP.*\n",
    "\n"
   ]
  },
  {
   "cell_type": "markdown",
   "execution_count": null,
   "metadata": {},
   "outputs": [],
   "source": [
    "### curiosidades e fatos\n",
    "\n",
    "1. list comprehensions foram originalmente inspiradas por uma ferramenta similar da linguagem funcional chamadas Haskell.\n",
    "2. Sua primeira versão foi no Python 2\n",
    "3. Sua sintax é derivada da notação da teoria de conjuntos (matemática):\n",
    "\n",
    "LC:\n",
    "\n",
    "s = \\[x***2 for x in range(21) if x*2 < 21]\n",
    "\n",
    "SET notation:\n",
    "\n",
    "s = {x² | x Є {1,2,3,...,20}, x.2 < 21}\n"
   ]
  },
  {
   "cell_type": "markdown",
   "execution_count": null,
   "metadata": {},
   "outputs": [],
   "source": [
    "### estrutura da LC\n",
    "\n",
    "```\n",
    "[ \n",
    "x**2 # --> (expressão)\n",
    "for x in range(21) # --> (for loop)\n",
    "if x*2 < 21  # --> (condição)\n",
    "]\n",
    "```"
   ]
  },
  {
   "cell_type": "code",
   "execution_count": null,
   "metadata": {},
   "outputs": [],
   "source": [
    "lista = []\n",
    "for x in range(21):\n",
    "  if x*2 < 21:\n",
    "    lista.append(x**2)\n",
    "lista"
   ]
  },
  {
   "cell_type": "code",
   "execution_count": null,
   "metadata": {},
   "outputs": [],
   "source": [
    "outra_lista = [ \n",
    "\n",
    "    x**2 # (expressão)\n",
    "\n",
    "    for x in range(21) # (for loop)\n",
    "\n",
    "    if x*2 < 21  # (condição)\n",
    "    \n",
    "  ]\n",
    "outra_lista"
   ]
  },
  {
   "cell_type": "markdown",
   "execution_count": null,
   "metadata": {},
   "outputs": [],
   "source": [
    "## List Comprehensions Versus map\n",
    "\n"
   ]
  },
  {
   "cell_type": "code",
   "execution_count": null,
   "metadata": {},
   "outputs": [],
   "source": [
    "ord('s')"
   ]
  },
  {
   "cell_type": "markdown",
   "execution_count": null,
   "metadata": {},
   "outputs": [],
   "source": [
    "**Vamos pensar**\n",
    "\n",
    "Dado que tenho a palavra 'list-comprehension' e preciso saber a representação de cada letra em ASCII.\n",
    "Como poderiamos solucionar isto?"
   ]
  },
  {
   "cell_type": "code",
   "execution_count": null,
   "metadata": {},
   "outputs": [],
   "source": [
    "# Talvez a abordagem mais comum seja um for loop normal\n",
    "res = []\n",
    "for x in 'list-comprehension':\n",
    "    res.append(ord(x))\n",
    "print(res)"
   ]
  },
  {
   "cell_type": "code",
   "execution_count": null,
   "metadata": {},
   "outputs": [],
   "source": [
    "# Podemos alcançar o mesmo resultado usando map\n",
    "\n",
    "res = list(map(ord, 'list-comprehension'))\n",
    "print(res)"
   ]
  },
  {
   "cell_type": "code",
   "execution_count": null,
   "metadata": {},
   "outputs": [],
   "source": [
    "res = [ord(x) for x in 'list-comprehension']\n",
    "print(res)"
   ]
  },
  {
   "cell_type": "markdown",
   "execution_count": null,
   "metadata": {},
   "outputs": [],
   "source": [
    "### Note que: \n",
    "\n",
    "- Apesar de termos o mesmo resultado que no map, note que enquanto o map utiliza uma **função** a LC usa uma **expressão** para manusear os valores.\n",
    "\n",
    "- Map é requer mais codigo do que o LC\n",
    "\n",
    "```\n",
    "[x ** 2 for x in range(10)]\n",
    "[0, 1, 4, 9, 16, 25, 36, 49, 64, 81]\n",
    "```\n",
    "```\n",
    "list(map((lambda x: x ** 2), range(10)))\n",
    "[0, 1, 4, 9, 16, 25, 36, 49, 64, 81]\n",
    "```\n",
    "\n"
   ]
  },
  {
   "cell_type": "markdown",
   "execution_count": null,
   "metadata": {},
   "outputs": [],
   "source": [
    "## Adding Tests: filter\n",
    "\n",
    "Como falamos anteriormente, o LC pode conter clausulas if. Podemos pensar que este if é analogo a operação filter do python.\n",
    "\n",
    "Ex.:\n",
    "Dado que temos uma lista, encontre os valores pares:\n"
   ]
  },
  {
   "cell_type": "code",
   "execution_count": null,
   "metadata": {},
   "outputs": [],
   "source": [
    "[x for x in range(5) if x % 2 == 0]"
   ]
  },
  {
   "cell_type": "code",
   "execution_count": null,
   "metadata": {},
   "outputs": [],
   "source": [
    "list(filter((lambda x: x % 2 == 0), range(5)))"
   ]
  },
  {
   "cell_type": "code",
   "execution_count": null,
   "metadata": {},
   "outputs": [],
   "source": [
    "res = []\n",
    "for x in range(5):\n",
    "    if x % 2 == 0:\n",
    "        res.append(x)\n",
    "print(res)"
   ]
  },
  {
   "cell_type": "markdown",
   "execution_count": null,
   "metadata": {},
   "outputs": [],
   "source": [
    "E se precisassemos elevar ao quadrado cada item da lista de numeros?\n"
   ]
  },
  {
   "cell_type": "code",
   "execution_count": null,
   "metadata": {},
   "outputs": [],
   "source": [
    "[x ** 2 for x in range(10) if x % 2 == 0]"
   ]
  },
  {
   "cell_type": "code",
   "execution_count": null,
   "metadata": {},
   "outputs": [],
   "source": [
    "list( map((lambda x: x**2), filter((lambda x: x % 2 ==\n",
    "0), range(10))) )"
   ]
  },
  {
   "cell_type": "markdown",
   "execution_count": null,
   "metadata": {},
   "outputs": [],
   "source": [
    "## Nested Loops\n",
    "\n",
    "```\n",
    "[ expression for target1 in iterable1 if condition1\n",
    "for target2 in iterable2 if condition2 ...\n",
    "for targetN in iterableN if conditionN ]\n",
    "```"
   ]
  },
  {
   "cell_type": "code",
   "execution_count": null,
   "metadata": {},
   "outputs": [],
   "source": [
    "[x + y for x in [0, 1, 2] for y in [100, 200, 300]]"
   ]
  },
  {
   "cell_type": "code",
   "execution_count": null,
   "metadata": {},
   "outputs": [],
   "source": [
    "res = []\n",
    "for x in [0, 1, 2]:\n",
    "    for y in [100, 200, 300]:\n",
    "        res.append(x + y)\n",
    "print(res)"
   ]
  },
  {
   "cell_type": "code",
   "execution_count": null,
   "metadata": {},
   "outputs": [],
   "source": [
    "[x + y + z for x in 'spam' if x in 'sm'\n",
    "           for y in 'SPAM' if y in ('P', 'A')\n",
    "           for z in '123' if z > '1']"
   ]
  },
  {
   "cell_type": "markdown",
   "execution_count": null,
   "metadata": {},
   "outputs": [],
   "source": [
    "### Quando usar? Devo usar?"
   ]
  },
  {
   "cell_type": "code",
   "execution_count": null,
   "metadata": {},
   "outputs": [],
   "source": [
    "import this"
   ]
  },
  {
   "cell_type": "markdown",
   "execution_count": null,
   "metadata": {},
   "outputs": [],
   "source": [
    "### List Comprehension é mais lento que o map e filter?\n",
    "\n",
    "Exemplo retirado do livro fluent python: \n",
    "\n",
    "https://github.com/fluentpython/example-code/blob/master/02-array-seq/listcomp_speed.py\n"
   ]
  },
  {
   "cell_type": "code",
   "execution_count": null,
   "metadata": {},
   "outputs": [],
   "source": [
    "import timeit\n",
    "\n",
    "TIMES = 10000\n",
    "\n",
    "SETUP = \"\"\"\n",
    "symbols = '$¢£¥€¤'\n",
    "def non_ascii(c):\n",
    "    return c > 127\n",
    "\"\"\"\n",
    "\n",
    "def clock(label, cmd):\n",
    "    res = timeit.repeat(cmd, setup=SETUP, number=TIMES)\n",
    "    print(label, *('{:.3f}'.format(x) for x in res))\n",
    "\n",
    "clock('listcomp        :', '[ord(s) for s in symbols if ord(s) > 127]')\n",
    "clock('listcomp + func :', '[ord(s) for s in symbols if non_ascii(ord(s))]')\n",
    "clock('filter + lambda :', 'list(filter(lambda c: c > 127, map(ord, symbols)))')\n",
    "clock('filter + func   :', 'list(filter(non_ascii, map(ord, symbols)))')"
   ]
  },
  {
   "cell_type": "code",
   "execution_count": null,
   "metadata": {},
   "outputs": [],
   "source": []
  }
 ]
}
